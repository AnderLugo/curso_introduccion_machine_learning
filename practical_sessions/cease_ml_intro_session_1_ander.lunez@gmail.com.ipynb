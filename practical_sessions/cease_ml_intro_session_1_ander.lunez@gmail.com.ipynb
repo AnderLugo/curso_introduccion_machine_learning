{
 "cells": [
  {
   "cell_type": "markdown",
   "id": "3da43797",
   "metadata": {},
   "source": [
    "prueba"
   ]
  }
 ],
 "metadata": {
  "language_info": {
   "name": "python"
  }
 },
 "nbformat": 4,
 "nbformat_minor": 5
}
